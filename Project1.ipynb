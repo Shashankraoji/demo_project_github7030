{
 "cells": [
  {
   "cell_type": "code",
   "execution_count": null,
   "id": "662649b9",
   "metadata": {},
   "outputs": [
    {
     "name": "stdout",
     "output_type": "stream",
     "text": [
      "Welcome to the bank.\n",
      "Enter your pin:4444\n",
      "Yor have successfull, login\n",
      "What you want to do?\n",
      "Enter 1 for balance enquiry\n",
      "Enter 2 for deposit\n",
      "Enter 3 for withdraw\n",
      "Enter 4 for Exit.\n",
      "Enter your choice(1-4)4\n",
      "Thank you for using the ATM .GoodBye!\n"
     ]
    }
   ],
   "source": [
    "class ATM:\n",
    "    def __init__(self,u1,b1):\n",
    "        self.pin=u1\n",
    "        self.bal=b1\n",
    "    def Bank(self):\n",
    "        print(\"Welcome to the bank.\")\n",
    "        pin=self.pin\n",
    "    def login(self):\n",
    "        flag=True\n",
    "        count=2\n",
    "        while(flag):\n",
    "            self.upin=int(input(\"Enter your pin:\"))\n",
    "            if(self.upin==self.pin):\n",
    "                print(\"Yor have successfull, login\")\n",
    "                flag= False\n",
    "            else:\n",
    "                print(\"Your Pin incorrect\",\"Please Enter Pin Again.\")\n",
    "                count=count-1\n",
    "                if (count==0):\n",
    "                    print(\"You Attempt is over, your card is Blocked.\")\n",
    "                    flag=True\n",
    "    def balance(self):\n",
    "        global bal\n",
    "        print(\"Your account balance is:\",self.bal)\n",
    "        bal=self.bal\n",
    "    def deposit(self):\n",
    "        global bal\n",
    "        amount=int(input(\"Enter your amount for deposit.\"))\n",
    "        self.bal=self.bal+amount\n",
    "        self.balance()\n",
    "    def withdraw(self):\n",
    "        global bal\n",
    "        amount=int(input(\"Enter your amount for withdraw.\"))\n",
    "        self.bal=self.bal-amount\n",
    "        self.balance()\n",
    "    def Exit(self):\n",
    "        print(\"Thank you\")\n",
    "    def transaction(self):\n",
    "        while True:\n",
    "            print(\"What you want to do?\")\n",
    "            print(\"Enter 1 for balance enquiry\\nEnter 2 for deposit\\nEnter 3 for withdraw\\nEnter 4 for Exit.\")\n",
    "            ch=input(\"Enter your choice(1-4)\")\n",
    "            if ch==\"1\":\n",
    "                self.balance()\n",
    "            elif ch==\"2\":\n",
    "                self.deposit()\n",
    "            elif ch==\"3\":\n",
    "                self.withdraw()\n",
    "            elif ch==\"4\":\n",
    "                print(\"Thank you for using the ATM .GoodBye!\")\n",
    "                break\n",
    "            else:\n",
    "                print(\"Invalid choice. Please try again.\")\n",
    "    \n",
    "    \n",
    "    \n",
    "\n",
    "a=ATM(4444,10000)\n",
    "a.Bank()\n",
    "a.login()\n",
    "a.transaction()"
   ]
  },
  {
   "cell_type": "code",
   "execution_count": null,
   "id": "a3fb3d74",
   "metadata": {},
   "outputs": [],
   "source": []
  }
 ],
 "metadata": {
  "kernelspec": {
   "display_name": "Python 3 (ipykernel)",
   "language": "python",
   "name": "python3"
  },
  "language_info": {
   "codemirror_mode": {
    "name": "ipython",
    "version": 3
   },
   "file_extension": ".py",
   "mimetype": "text/x-python",
   "name": "python",
   "nbconvert_exporter": "python",
   "pygments_lexer": "ipython3",
   "version": "3.11.4"
  }
 },
 "nbformat": 4,
 "nbformat_minor": 5
}
